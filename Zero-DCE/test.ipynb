{
 "cells": [
  {
   "cell_type": "code",
   "execution_count": null,
   "metadata": {},
   "outputs": [],
   "source": [
    "from PIL import Image\n",
    "import numpy as np\n",
    "import cv2\n",
    "\n",
    "loaded_model = ZeroDCE()\n",
    "loaded_model.load_weights(\"pretrained_models/zero_dce_model_weights.h5\")\n",
    "\n",
    "image_path = \"/content/HD-wallpaper-saitama-one-punch-man-manga-hero-sensei-anime.jpg\"\n",
    "\n",
    "original_image = Image.open(image_path)\n",
    "original_image = original_image.convert(\"RGB\")\n",
    "image_array = np.array(original_image)\n",
    "image_array = image_array / 255.0\n",
    "image_array = np.expand_dims(image_array, axis=0)\n",
    "enhanced_image = loaded_model.predict(image_array)\n",
    "enhanced_image = Image.fromarray(np.uint8(enhanced_image[0] * 255))\n",
    "\n",
    "\n",
    "# Save the enhanced image\n",
    "enhanced_image.save(\"enhanced_image.jpg\")\n"
   ]
  }
 ],
 "metadata": {
  "language_info": {
   "name": "python"
  }
 },
 "nbformat": 4,
 "nbformat_minor": 2
}
