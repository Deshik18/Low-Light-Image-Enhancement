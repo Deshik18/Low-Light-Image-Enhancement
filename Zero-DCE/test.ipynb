{
 "cells": [
  {
   "cell_type": "code",
   "execution_count": null,
   "metadata": {},
   "outputs": [],
   "source": [
    "import os\n",
    "from PIL import Image\n",
    "import numpy as np\n",
    "from zero_dce_model import ZeroDCE  # Assuming you have a module named zero_dce_model.py containing the ZeroDCE model class\n",
    "\n",
    "def process_images(input_dir):\n",
    "    # Create output directory if not exists\n",
    "    output_dir = \"zero_dce_result\"\n",
    "    if not os.path.exists(output_dir):\n",
    "        os.makedirs(output_dir)\n",
    "\n",
    "    # Load ZeroDCE model\n",
    "    loaded_model = ZeroDCE()\n",
    "    loaded_model.load_weights(\"pretrained_models/zero_dce_model_weights.h5\")\n",
    "\n",
    "    # Process each image in the input directory\n",
    "    for filename in os.listdir(input_dir):\n",
    "        if filename.endswith(\".jpg\") or filename.endswith(\".jpeg\") or filename.endswith(\".png\"):\n",
    "            # Load original image\n",
    "            image_path = os.path.join(input_dir, filename)\n",
    "            original_image = Image.open(image_path).convert(\"RGB\")\n",
    "            image_array = np.array(original_image)\n",
    "            image_array = image_array / 255.0\n",
    "            image_array = np.expand_dims(image_array, axis=0)\n",
    "\n",
    "            # Enhance image using ZeroDCE model\n",
    "            enhanced_image = loaded_model.predict(image_array)\n",
    "            enhanced_image = Image.fromarray(np.uint8(enhanced_image[0] * 255))\n",
    "\n",
    "            # Save enhanced image\n",
    "            enhanced_image.save(os.path.join(output_dir, filename))\n",
    "\n",
    "            # Save final image with the same name as input image\n",
    "            enhanced_image.save(os.path.join(output_dir, \"final_\" + filename))\n",
    "\n",
    "    print(\"Image processing complete.\")\n",
    "\n",
    "# Example usage:\n",
    "input_directory_path = \"input_images\"\n",
    "process_images(input_directory_path)\n"
   ]
  }
 ],
 "metadata": {
  "language_info": {
   "name": "python"
  }
 },
 "nbformat": 4,
 "nbformat_minor": 2
}
